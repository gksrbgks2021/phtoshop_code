# About The Project
---
### PyQt5 , Open-CV 를 사용한 포토샵 앱

[![Video Title](https://www.youtube.com/watch?v=PwDfYspcBI8&ab_channel=%ED%95%9C%EA%B7%9C%ED%95%9C)


# pdf 링크
